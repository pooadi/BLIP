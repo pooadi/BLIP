<<<<<<< HEAD
{"nbformat":4,"nbformat_minor":0,"metadata":{"colab":{"provenance":[],"gpuType":"T4","authorship_tag":"ABX9TyOg9K0VdhHTEkenmU4uhusm"},"kernelspec":{"name":"python3","display_name":"Python 3"},"language_info":{"name":"python"},"accelerator":"GPU"},"cells":[{"cell_type":"code","execution_count":null,"metadata":{"id":"z5swz-jwsr_o"},"outputs":[],"source":["# code to mount my drive\n","from google.colab import drive\n","drive.mount('/content/drive')"]},{"cell_type":"code","source":["!pip install kaggle\n","!mkdir -p root/.kaggle\n","!kaggle datasets download -d jeffaudi/coco-2014-dataset-for-yolov3\n"],"metadata":{"id":"fXKTbQMzI5K1"},"execution_count":null,"outputs":[]},{"cell_type":"code","source":["!pip3 install timm==0.4.12 fairscale==0.4.4\n","!pip3 install transformers\n","!pip install \"git+https://github.com/salaniz/pycocoevalcap.git\"\n","!pip install ruamel.yaml"],"metadata":{"id":"kmMqj30H3rgO"},"execution_count":null,"outputs":[]},{"cell_type":"code","source":["%cd /content/drive/MyDrive/My_Software_Projects/BLIP\n","!pip install -r requirements.txt\n"],"metadata":{"id":"arfk3q2_3aOm"},"execution_count":null,"outputs":[]},{"cell_type":"code","source":["%cd /content/drive/MyDrive/My_Software_Projects/BLIP\n","!python -m torch.distributed.run train_caption.py "],"metadata":{"id":"MkWpDrR95LNe"},"execution_count":null,"outputs":[]}]}
=======
{
 "nbformat": 4,
 "nbformat_minor": 0,
 "metadata": {
  "colab": {
   "provenance": [],
   "authorship_tag": "ABX9TyPXvfQj4nUEPHAZLqjg/0ef"
  },
  "kernelspec": {
   "name": "python3",
   "language": "python",
   "display_name": "Python 3 (ipykernel)"
  },
  "language_info": {
   "name": "python"
  }
 },
 "cells": [
  {
   "cell_type": "code",
   "execution_count": null,
   "metadata": {
    "id": "z5swz-jwsr_o",
    "is_executing": true
   },
   "outputs": [],
   "source": [
    "# code to mount my drive\n",
    "from google.colab import drive\n",
    "drive.mount('/content/drive')"
   ]
  },
  {
   "cell_type": "code",
   "execution_count": null,
   "outputs": [],
   "source": [
    "!pip install kaggle\n",
    "!mkdir -p root/.kaggle\n",
    "!kaggle datasets download -d jeffaudi/coco-2014-dataset-for-yolov3"
   ],
   "metadata": {
    "collapsed": false
   }
  },
  {
   "cell_type": "code",
   "execution_count": null,
   "outputs": [],
   "source": [
    "!pip3 install timm==0.4.12 fairscale==0.4.4\n",
    "!pip3 install transformers\n",
    "!pip install \"git+https://github.com/salaniz/pycocoevalcap.git\"\n",
    "!pip install ruamel.yaml"
   ],
   "metadata": {
    "collapsed": false
   }
  },
  {
   "cell_type": "code",
   "execution_count": null,
   "outputs": [],
   "source": [
    "%cd /content/drive/MyDrive/My_Software_Projects/BLIP\n",
    "!pip install -r requirements.txt\n"
   ],
   "metadata": {
    "collapsed": false
   }
  },
  {
   "cell_type": "code",
   "execution_count": null,
   "outputs": [],
   "source": [
    "%cd /content/drive/MyDrive/My_Software_Projects/BLIP\n",
    "!python -m torch.distributed.run train_caption.py "
   ],
   "metadata": {
    "collapsed": false
   }
  }
 ]
}
>>>>>>> 80230b59e8546643026b9297073c5e3581ee43b9
